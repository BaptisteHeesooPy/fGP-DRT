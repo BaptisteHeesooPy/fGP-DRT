{
 "cells": [
  {
   "cell_type": "markdown",
   "metadata": {},
   "source": [
    "# The finite Gaussian Process Distribution of Relaxation Times (fGP-DRT)"
   ]
  },
  {
   "cell_type": "code",
   "execution_count": 139,
   "metadata": {},
   "outputs": [],
   "source": [
    "import numpy as np\n",
    "import pandas as pd\n",
    "import matplotlib.pyplot as plt\n",
    "from math import sin, cos, pi, log, sqrt\n",
    "import finite_GP_DRT\n",
    "from scipy.optimize import minimize\n",
    "import importlib\n",
    "importlib.reload(finite_GP_DRT)\n",
    "import os\n",
    "from matplotlib import gridspec\n",
    "import scipy.io\n",
    "%matplotlib inline"
   ]
  },
  {
   "cell_type": "markdown",
   "metadata": {},
   "source": [
    "## 1) Experimental data from $\\rm Ba_{0.95}La_{0.05}FeO_{3-\\delta}$-based symmetric cells (BLF) at $500^\\circ$C and $\\rm pO_{2}$ = 60$\\%$\n",
    "\n",
    "Reference: \"P-substituted $\\rm Ba_{0.95}La_{0.05}FeO_{3-\\delta}$ as a cathode material for SOFCs.\", J. Liu, J. Wang, A. Belotti, F. Ciucci.  ACS Appl. Energy Mater., 2, 8 , 5472-5480 (2019)"
   ]
  },
  {
   "cell_type": "markdown",
   "metadata": {},
   "source": [
    "### Load the data"
   ]
  },
  {
   "cell_type": "code",
   "execution_count": 140,
   "metadata": {},
   "outputs": [],
   "source": [
    "df=pd.read_csv('./experimental_data/BLF_D5_pO2_60%_T500.csv')\n",
    "##\n",
    "N_freqs = df.shape[0]\n",
    "freq_vec = np.flip(df['freq'].values)\n",
    "Z_exp = np.flip(df['Real'].values - 1j*df['Imag'].values)\n",
    "##\n",
    "Z_exp_re = Z_exp.real\n",
    "Z_exp_im = Z_exp.imag"
   ]
  },
  {
   "cell_type": "markdown",
   "metadata": {},
   "source": [
    "### Define the range of log timescales"
   ]
  },
  {
   "cell_type": "code",
   "execution_count": 141,
   "metadata": {},
   "outputs": [],
   "source": [
    "# define the range of log timescales with tau=1/f as in the previous papers\n",
    "N_taus = 101\n",
    "log_tau_min = -6\n",
    "log_tau_max = 4\n",
    "\n",
    "tau_vec = np.logspace(log_tau_min, log_tau_max, num = N_taus, endpoint=True)\n",
    "log_tau_vec = np.log(tau_vec)"
   ]
  },
  {
   "cell_type": "markdown",
   "metadata": {},
   "source": [
    "We define $\\mathbf Z_{\\rm re-im} = \\begin{pmatrix}\n",
    " \\mathbf{Z}_{\\rm re} \\\\\n",
    " \\mathbf{Z}_{\\rm im} \n",
    "\\end{pmatrix}$"
   ]
  },
  {
   "cell_type": "code",
   "execution_count": 142,
   "metadata": {},
   "outputs": [],
   "source": [
    "Z_exp_re_im = np.zeros(2*N_freqs)\n",
    "Z_exp_re_im[:N_freqs] = Z_exp.real\n",
    "Z_exp_re_im[N_freqs:] = Z_exp.imag"
   ]
  },
  {
   "cell_type": "markdown",
   "metadata": {},
   "source": [
    "## 2) Nyquist plot of the BLF impedance"
   ]
  },
  {
   "cell_type": "code",
   "execution_count": 143,
   "metadata": {},
   "outputs": [
    {
     "data": {
      "image/png": "[encoded data removed]",
      "text/plain": [
       "<Figure size 465.984x288 with 1 Axes>"
      ]
     },
     "metadata": {
      "needs_background": "light"
     },
     "output_type": "display_data"
    }
   ],
   "source": [
    "plt.rc('text', usetex=True)\n",
    "plt.rc('font', family='serif', size=15)\n",
    "plt.rc('xtick', labelsize=15)\n",
    "plt.rc('ytick', labelsize=15)\n",
    "\n",
    "# Nyquist plot of the impedance\n",
    "plt.plot(np.real(Z_exp), -np.imag(Z_exp), 'o', markersize=7, color='red', label='exp')\n",
    "plt.plot(Z_exp_re[20:100:20], -Z_exp_im[20:100:20], 's', markersize=7, color='black')\n",
    "\n",
    "plt.legend(frameon=False, fontsize = 15)\n",
    "plt.axis('scaled')\n",
    "plt.gca().set_aspect('equal', adjustable='box')\n",
    "plt.xlabel(r'$Z_{\\rm re}/{\\rm m}\\Omega$', fontsize = 20)\n",
    "plt.ylabel(r'$-Z_{\\rm im}/{\\rm m}\\Omega$', fontsize = 20)\n",
    "label_index = range(20,100,20)\n",
    "move = [[-1.7, 0.001], [-0.01, 0.4], [0.8, -0.1], [-0.1, 1.0]]\n",
    "for k, ind in enumerate(label_index):\n",
    "    power = int(np.log10(freq_vec[ind]))\n",
    "    num = freq_vec[ind]/(10**(power))\n",
    "    plt.annotate(r'${0:.1f}\\times 10^{1}$'.format(num, power), xy=(Z_exp_re[ind],-Z_exp_im[ind]), \n",
    "                 xytext=(Z_exp_re[ind]+move[k][0], move[k][1]-Z_exp_im[ind]), \n",
    "                 arrowprops=dict(arrowstyle=\"-\", connectionstyle=\"arc\"))\n",
    "plt.ylim(-0.1,3.0)\n",
    "\n",
    "fig = plt.gcf()\n",
    "fig.set_size_inches(6.472, 4)\n",
    "plt.show()"
   ]
  },
  {
   "cell_type": "markdown",
   "metadata": {},
   "source": [
    "### 2.1) Compute the matrix $\\mathbf A$\n",
    "Given the collocation points in the vector $\\log \\tau$, we define\n",
    "$$\\mathbf A := \\begin{pmatrix}\n",
    "0 & \\mathbf 1 & \\mathbf A_{\\rm re} \\\\\n",
    "\\boldsymbol \\omega & 0 & \\mathbf A_{\\rm im}\n",
    "\\end{pmatrix}$$\n",
    "where $\\mathbf 1 \\in \\mathbb R^{N_f\\times 1}$ and $\\boldsymbol \\omega = 2\\pi \\mathbf f$ with $\\mathbf f = \\left(f_1,f_2, \\ldots, f_M\\right)^\\top$ being the experimental frequencies."
   ]
  },
  {
   "cell_type": "code",
   "execution_count": 144,
   "metadata": {},
   "outputs": [],
   "source": [
    "# compute A_re and A_im\n",
    "A_re = finite_GP_DRT.compute_A_re(freq_vec, tau_vec)\n",
    "A_im = finite_GP_DRT.compute_A_im(freq_vec, tau_vec)\n",
    "\n",
    "# matrix A\n",
    "A = np.zeros((2*N_freqs, N_taus+2))\n",
    "# real part\n",
    "A[:N_freqs, 1] = 1.0 \n",
    "A[:N_freqs, 2:] = A_re\n",
    "# imaginary part\n",
    "A[N_freqs:, 0] = 2*pi*freq_vec*1E-4 \n",
    "A[N_freqs:, 2:] = A_im"
   ]
  },
  {
   "cell_type": "markdown",
   "metadata": {},
   "source": [
    "### 2.2) Selection of the optimal hyperparameters of the unconstrained GP-DRT model by minimizing the negative marginal log-likelihood (NMLL)"
   ]
  },
  {
   "cell_type": "markdown",
   "metadata": {},
   "source": [
    "The values of the hyperparameter vector $\\boldsymbol{\\theta}$ were obtained by maximizing the experimental evidence, i.e., by maximizing the probability $p(\\mathbf{Z} = \\mathbf{Z}_{\\rm exp}|\\mathbf{x}, \\boldsymbol \\theta)$   of the experiment under no constraint on $\\mathbf{x}$.\n",
    "\n",
    "$$\n",
    "\\log\\left(\\mathbf{Z} = \\mathbf{Z}_{\\rm exp}|\\mathbf x, \\boldsymbol\\theta\\right) = - \\frac{1}{2} \\mathbf{Z}_{\\rm exp}^\\top \\mathbf (A\\boldsymbol{\\Gamma}A^{\\top} + \\sigma_{n}^{2}\\mathbf{I})^{-1}\\mathbf{Z}_{\\rm exp} -\\frac{1}{2} \\log(|A\\boldsymbol{\\Gamma}A^{\\top} + \\sigma_{n}^{2}\\mathbf{I}|) - \\frac{N+2}{2} \\log \\left( 2\\pi\\right)\n",
    "$$\n",
    "In the actual implementation\n",
    "$$\n",
    "L(\\boldsymbol{\\theta}) = -\\log\\left(\\mathbf{Z} = \\mathbf{Z}_{\\rm exp}|\\mathbf x, \\boldsymbol\\theta\\right)-\\frac{N+2}{2} \\log \\left( 2\\pi\\right)\n",
    "$$\n",
    "\n",
    "The above minimization problem is solved using the `optimize` function from `scipy`."
   ]
  },
  {
   "cell_type": "markdown",
   "metadata": {},
   "source": [
    "#### 2.2.1) Initialization of the parameters for the NMLL minimization"
   ]
  },
  {
   "cell_type": "code",
   "execution_count": 145,
   "metadata": {},
   "outputs": [],
   "source": [
    "# initial parameters to maximize the marginal log-likelihood\n",
    "sigma_n = 0.1\n",
    "sigma_L = 0.1\n",
    "sigma_R = 3.0\n",
    "sigma_f = 0.1\n",
    "ell =  1.2\n",
    "\n",
    "theta_0 = np.array([sigma_n, sigma_L, sigma_R, sigma_f, ell])"
   ]
  },
  {
   "cell_type": "markdown",
   "metadata": {},
   "source": [
    "#### 2.2.2) NMLL optimization"
   ]
  },
  {
   "cell_type": "code",
   "execution_count": 146,
   "metadata": {},
   "outputs": [
    {
     "name": "stdout",
     "output_type": "stream",
     "text": [
      "sigma_n,   sigma_L,   sigma_R,   sigma_f,   ell\n",
      "0.0040891  0.0994950  3.0000060  0.1494171  1.2016279\n",
      "0.0046408  0.0994973  3.0000060  0.1491858  1.2016204\n",
      "0.0046106  0.0994966  3.0000060  0.1492303  1.2016223\n",
      "0.0045829  0.0994947  3.0000060  0.1493215  1.2016265\n",
      "0.0045545  0.0994906  3.0000061  0.1495185  1.2016360\n",
      "0.0045052  0.0994767  3.0000062  0.1501659  1.2016677\n",
      "0.0044258  0.0994358  3.0000066  0.1520543  1.2017601\n",
      "0.0043156  0.0993286  3.0000084  0.1569687  1.2020020\n",
      "0.0042201  0.0991021  3.0000116  0.1673130  1.2025117\n",
      "0.0041976  0.0985914  3.0000194  0.1905435  1.2036591\n",
      "0.0043522  0.0976515  3.0000701  0.2282127  1.2057000\n",
      "0.0044954  0.0969430  3.0001091  0.2563258  1.2072324\n",
      "0.0045848  0.0963054  3.0001419  0.2818776  1.2086146\n",
      "0.0046040  0.0959018  3.0001604  0.2982714  1.2094913\n",
      "0.0045963  0.0952250  3.0001914  0.3258472  1.2109626\n",
      "0.0045308  0.0951137  3.0001801  0.3271719  1.2111042\n",
      "0.0045285  0.0950830  3.0001810  0.3283161  1.2111676\n",
      "0.0045270  0.0950392  3.0001819  0.3291475  1.2112311\n",
      "0.0045254  0.0949586  3.0001778  0.3298134  1.2113284\n",
      "0.0045208  0.0943631  3.0001246  0.3285824  1.2118279\n",
      "0.0044966  0.0870646  2.9994944  0.3187762  1.2181408\n",
      "0.0044944  0.0531318  2.9965707  0.2722435  1.2474493\n",
      "0.0045370  0.0011366  2.9921096  0.2050072  1.2924604\n",
      "0.0045370  0.0015471  2.9921447  0.2055615  1.2921009\n",
      "0.0045164  0.0015044  2.9921958  0.2186583  1.2924922\n",
      "0.0045360  0.0013663  2.9923589  0.2566342  1.2937210\n",
      "0.0046933  0.0013612  2.9924589  0.2827361  1.2944950\n",
      "0.0045912  0.0013742  2.9925156  0.2958421  1.2948964\n",
      "0.0045447  0.0013950  2.9925737  0.3094742  1.2953000\n",
      "0.0045488  0.0014002  2.9925901  0.3134891  1.2954204\n",
      "0.0045491  0.0014029  2.9926001  0.3159230  1.2954944\n",
      "0.0045504  0.0014008  2.9925912  0.3148974  1.2956210\n",
      "0.0045744  0.0013383  2.9917024  0.3076817  1.3098525\n",
      "0.0046324  0.0012879  2.9845560  0.2540876  1.4244517\n",
      "0.0046168  0.0015471  2.9826239  0.2490914  1.4562981\n",
      "0.0045583  0.0020094  2.9787217  0.2581756  1.5219807\n",
      "0.0045047  0.0032046  2.9621317  0.2556743  1.7976639\n",
      "0.0047160  0.0046352  2.9557174  0.3147413  1.9093801\n",
      "0.0046496  0.0055839  2.9476955  0.3488529  2.0454830\n",
      "0.0044492  0.0057222  2.9484374  0.3898684  2.0367353\n",
      "0.0045442  0.0053112  2.9511150  0.3685714  1.9903586\n",
      "0.0046002  0.0049785  2.9516685  0.3482166  1.9792573\n",
      "0.0046002  0.0049785  2.9516685  0.3482166  1.9792573\n"
     ]
    }
   ],
   "source": [
    "seq_theta = np.copy(theta_0)\n",
    "def print_results(theta):\n",
    "    global seq_theta\n",
    "    seq_theta = np.vstack((seq_theta, theta))\n",
    "    print('{0:.7f}  {1:.7f}  {2:.7f}  {3:.7f}  {4:.7f}'.format(theta[0], theta[1], theta[2], theta[3], theta[4]))\n",
    "\n",
    "print('sigma_n,   sigma_L,   sigma_R,   sigma_f,   ell')\n",
    "\n",
    "# minimize the NMLL L(\\theta) w.r.t sigma_n, sigma_R, sigma_f, and ell\n",
    "res = minimize(finite_GP_DRT.NMLL_L_fct, theta_0, args=(A, Z_exp_re_im, N_freqs, log_tau_vec), method='L-BFGS-B', \\\n",
    "                callback=print_results, options={'disp': True})\n",
    "\n",
    "# collect the optimized parameters\n",
    "sigma_n, sigma_L, sigma_R, sigma_f, ell = res.x"
   ]
  },
  {
   "cell_type": "markdown",
   "metadata": {},
   "source": [
    "### 2.3) Definition of the covariance matrix $\\mathbf K$ with the optimized $\\boldsymbol \\theta$"
   ]
  },
  {
   "cell_type": "code",
   "execution_count": 147,
   "metadata": {},
   "outputs": [],
   "source": [
    "# compute the matrix K\n",
    "K = finite_GP_DRT.compute_K(log_tau_vec, sigma_f, ell)"
   ]
  },
  {
   "cell_type": "markdown",
   "metadata": {},
   "source": [
    "### 2.4) Building the augmented covariance matrix $\\boldsymbol{\\Gamma}$\n",
    "\n",
    "$$\\mathbf \\Gamma := \\begin{pmatrix}\n",
    "\\mathbf \\sigma_L^2 & 0 & 0 \\\\\n",
    "0 & \\mathbf \\sigma_R^2 & 0\\\\\n",
    "0 & 0 & \\mathbf K\n",
    "\\end{pmatrix}$$"
   ]
  },
  {
   "cell_type": "code",
   "execution_count": 148,
   "metadata": {},
   "outputs": [],
   "source": [
    "# compute the matrix Gamma\n",
    "Gamma = np.zeros((N_taus+2, N_taus+2))\n",
    "Gamma[0,0] = sigma_L**2\n",
    "Gamma[1,1] = sigma_R**2\n",
    "Gamma[2:, 2:] = K"
   ]
  },
  {
   "cell_type": "markdown",
   "metadata": {},
   "source": [
    "### 2.5) Definition of $\\mathbf \\Psi$ and $\\mathbf \\Xi$\n",
    "\n",
    "$$\\mathbf \\Psi = \\mathbf A \\mathbf \\Gamma \\mathbf A^\\top + \\sigma_n^2 \\mathbf I$$ \n",
    "and \n",
    "\n",
    "$$\\mathbf \\Xi = \\mathbf \\Gamma \\mathbf A^\\top$$"
   ]
  },
  {
   "cell_type": "code",
   "execution_count": 149,
   "metadata": {},
   "outputs": [],
   "source": [
    "# put together the matrix Gamma\n",
    "Psi = A@(Gamma@A.T)+(sigma_n**2)*np.eye(2*N_freqs)\n",
    "Psi = 0.5*(Psi + Psi.T) # symmetrize\n",
    "Xi = Gamma@A.T"
   ]
  },
  {
   "cell_type": "markdown",
   "metadata": {},
   "source": [
    "### 2.6) Factorization of the matrices and solving of the unconstrained problem\n",
    "We are computing\n",
    "$$\n",
    "\\mathbf x|\\mathbf Z=Z_{\\rm exp}\\sim \\mathcal N\\left( \\boldsymbol \\mu_{x|Z}, \\boldsymbol \\Sigma_{x|Z} \\right)\n",
    "$$\n",
    "\n",
    "using \n",
    "$$\n",
    "\\begin{align}\n",
    "\\boldsymbol \\mu_{x|Z} &= \\mathbf \\Xi \\mathbf \\Psi^{-1}\\mathbf Z_{\\rm exp} \\\\\n",
    "\\boldsymbol \\Sigma_{x|Z} &= \\mathbf \\Gamma - \\mathbf \\Xi \\mathbf \\Psi^{-1} \\mathbf \\Xi^\\top\n",
    "\\end{align}\n",
    "$$\n",
    "\n",
    "The key step is to do Cholesky factorization of $\\mathbf \\Psi$"
   ]
  },
  {
   "cell_type": "code",
   "execution_count": 150,
   "metadata": {},
   "outputs": [],
   "source": [
    "# Cholesky factorization L of Psi -L is a lower-triangular matrix-\n",
    "L = np.linalg.cholesky(Psi)\n",
    "\n",
    "# solve for alpha\n",
    "alpha = np.linalg.solve(L, Z_exp_re_im)\n",
    "alpha = np.linalg.solve(L.T, alpha)\n",
    "\n",
    "# obtain mu_x\n",
    "mu_x_given_Z = np.dot(Xi, alpha)\n",
    "\n",
    "# covariance matrix\n",
    "inv_L = np.linalg.inv(L)\n",
    "inv_Psi = np.dot(inv_L.T, inv_L)\n",
    "\n",
    "# estimate the covariance matrix of gamma for eq (21b)\n",
    "Sigma_x_given_Z = Gamma - Xi@(inv_Psi@Xi.T)\n",
    "\n",
    "# useful definition for plots\n",
    "R_inf_unc = mu_x_given_Z[0]\n",
    "cov_R_inf_unc = Sigma_x_given_Z[0, 0]\n",
    "\n",
    "gamma_GP_unc = mu_x_given_Z[2:]\n",
    "Sigma_GP_unc = Sigma_x_given_Z[2:, 2:]"
   ]
  },
  {
   "cell_type": "markdown",
   "metadata": {},
   "source": [
    "### 2.7)  Sample of the DRT under positivity constraint\n",
    "\n",
    "We now sample\n",
    "$$\n",
    "\\mathbf x|\\mathbf Z=Z_{\\rm exp}\\sim {\\mathcal TN}\\left( \\boldsymbol \\mu_{x|Z}, \\boldsymbol \\Sigma_{x|Z}, \\mathbf 0, \\infty \\right)\n",
    "$$"
   ]
  },
  {
   "cell_type": "code",
   "execution_count": 151,
   "metadata": {},
   "outputs": [
    {
     "name": "stdout",
     "output_type": "stream",
     "text": [
      "Current sample number 1000 / 10000\n",
      "Current sample number 2000 / 10000\n",
      "Current sample number 3000 / 10000\n",
      "Current sample number 4000 / 10000\n",
      "Current sample number 5000 / 10000\n",
      "Current sample number 6000 / 10000\n",
      "Current sample number 7000 / 10000\n",
      "Current sample number 8000 / 10000\n",
      "Current sample number 9000 / 10000\n",
      "Current sample number 10000 / 10000\n"
     ]
    }
   ],
   "source": [
    "# inputs to the Hamilton Monte-Carlo sampler\n",
    "# F*X+g >0\n",
    "F = np.eye(N_taus+2) \n",
    "g = np.zeros(N_taus+2) \n",
    "# covariance & mean\n",
    "M = Sigma_x_given_Z + 1E-8*np.eye(N_taus+2)\n",
    "mu_r = mu_x_given_Z\n",
    "# initial val\n",
    "initial_x_given_Z = np.abs(mu_x_given_Z)\n",
    "samples_raw = finite_GP_DRT.generate_tmg(F, g, M, mu_r, initial_x_given_Z, cov=True, L=10000)"
   ]
  },
  {
   "cell_type": "code",
   "execution_count": 152,
   "metadata": {},
   "outputs": [],
   "source": [
    "# postprocessing\n",
    "samples = samples_raw[:,1000:] # remove burn in\n",
    "samples_gamma = samples[2:,:] # slice out only samples of gamma\n",
    "samples_Z_re_im = A@samples # samples of Z_re_im"
   ]
  },
  {
   "cell_type": "markdown",
   "metadata": {},
   "source": [
    "### 2.8)  Plot of the constrained DRT"
   ]
  },
  {
   "cell_type": "code",
   "execution_count": 153,
   "metadata": {},
   "outputs": [
    {
     "data": {
      "image/png": "[encoded data removed]",
      "text/plain": [
       "<Figure size 432x288 with 1 Axes>"
      ]
     },
     "metadata": {
      "needs_background": "light"
     },
     "output_type": "display_data"
    }
   ],
   "source": [
    "gamma_avg = np.average(samples_gamma,axis=1)\n",
    "gamma_std = np.std(samples_gamma,axis=1)\n",
    "gamma_median = np.nanmedian(samples_gamma,axis=1)\n",
    "gamma_percentile_0dot1 = np.percentile(samples_gamma, 1, axis=1)\n",
    "gamma_percentile_0dot5 = np.percentile(samples_gamma, 50, axis=1)\n",
    "gamma_percentile_0dot9 = np.percentile(samples_gamma, 99, axis=1)\n",
    "\n",
    "# plot the DRT and its confidence region\n",
    "plt.semilogx(tau_vec, gamma_median, linewidth=2, color='black', label='fGP-DRT')\n",
    "plt.fill_between(tau_vec, gamma_percentile_0dot1, gamma_percentile_0dot9, \n",
    "                 color='0.25', alpha=0.25)\n",
    "\n",
    "plt.rc('text', usetex=True)\n",
    "plt.rc('font', family='serif', size=15)\n",
    "plt.rc('xtick', labelsize=15)\n",
    "plt.rc('ytick', labelsize=15)\n",
    "plt.axis([1E-6, 1E3, 0 ,1])\n",
    "plt.legend(frameon=False, fontsize = 15)\n",
    "plt.xlabel(r'$\\tau/\\rm s$', fontsize = 20)\n",
    "plt.ylabel(r'$\\gamma/\\Omega$', fontsize = 20)\n",
    "fig.set_size_inches(6.472, 4)\n",
    "plt.show()"
   ]
  },
  {
   "cell_type": "markdown",
   "metadata": {},
   "source": [
    "### 2.9)  Plot of the impedance"
   ]
  },
  {
   "cell_type": "code",
   "execution_count": 154,
   "metadata": {},
   "outputs": [],
   "source": [
    "Z_re_im_avg = np.average(samples_Z_re_im,axis=1)\n",
    "Z_re_im_std = np.std(samples_Z_re_im,axis=1)\n",
    "Z_re_im_median = np.nanmedian(samples_Z_re_im,axis=1)\n",
    "Z_re_im_percentile_0dot1 = np.percentile(samples_Z_re_im, 1, axis=1)\n",
    "Z_re_im_percentile_0dot5 = np.percentile(samples_Z_re_im, 50, axis=1)\n",
    "Z_re_im_percentile_0dot9 = np.percentile(samples_Z_re_im, 99, axis=1)\n",
    "\n",
    "Z_re_median = Z_re_im_median[:N_freqs]\n",
    "Z_im_median = Z_re_im_median[N_freqs:]\n",
    "\n",
    "Z_re_percentile_0dot1 = Z_re_im_percentile_0dot1[:N_freqs]\n",
    "Z_re_percentile_0dot9 = Z_re_im_percentile_0dot9[:N_freqs]\n",
    "Z_im_percentile_0dot1 = Z_re_im_percentile_0dot1[N_freqs:]\n",
    "Z_im_percentile_0dot9 = Z_re_im_percentile_0dot9[N_freqs:]"
   ]
  },
  {
   "cell_type": "code",
   "execution_count": 155,
   "metadata": {},
   "outputs": [
    {
     "data": {
      "image/png": "[encoded data removed]",
      "text/plain": [
       "<Figure size 465.984x288 with 2 Axes>"
      ]
     },
     "metadata": {
      "needs_background": "light"
     },
     "output_type": "display_data"
    }
   ],
   "source": [
    "fig, (ax1, ax2) = plt.subplots(2, sharex=True)\n",
    "\n",
    "ax1.semilogx(freq_vec, Z_exp.real, 'o', markersize=7, color='red', label='exp')\n",
    "ax1.semilogx(freq_vec, Z_re_median, linewidth=2, color='black', label='fGP-DRT')\n",
    "ax1.fill_between(freq_vec, Z_re_percentile_0dot1, Z_re_percentile_0dot9, \n",
    "                 color='0.25', alpha=0.25)\n",
    "ax1.set_ylabel(r'$Z_{\\rm re}/\\Omega$', fontsize = 20)\n",
    "\n",
    "ax1.legend(frameon=False, fontsize = 15)\n",
    " \n",
    "\n",
    "ax2.semilogx(freq_vec, -Z_exp.imag, 'o', markersize=7, color='red', label='exp')\n",
    "ax2.semilogx(freq_vec, -Z_im_median, linewidth=2, color='black', label='fGP-DRT')\n",
    "ax2.fill_between(freq_vec, -Z_im_percentile_0dot1, -Z_im_percentile_0dot9, \n",
    "                 color='0.25', alpha=0.25)\n",
    "ax2.set_ylabel(r'$-Z_{\\rm im}/\\Omega$', fontsize = 20)\n",
    "\n",
    "\n",
    "plt.rc('text', usetex=True)\n",
    "plt.rc('font', family='serif', size=15)\n",
    "plt.rc('xtick', labelsize=15)\n",
    "plt.rc('ytick', labelsize=15)\n",
    "plt.xlabel(r'$f/{\\rm Hz}$', fontsize = 20)\n",
    "fig.set_size_inches(6.472, 4)\n",
    "\n",
    "fig.align_ylabels()\n",
    "plt.show()"
   ]
  },
  {
   "cell_type": "markdown",
   "metadata": {},
   "source": [
    "## 3) Comparison of the fGP-DRT model with an ECM consisting of two ZARCs\n",
    "\n",
    "### Load ECM parameters for the BLF at $500^\\circ$C  and $\\rm pO_{2}$ = 60$\\%$"
   ]
  },
  {
   "cell_type": "code",
   "execution_count": 156,
   "metadata": {},
   "outputs": [
    {
     "name": "stdout",
     "output_type": "stream",
     "text": [
      "{'__header__': b'MATLAB 5.0 MAT-file, Platform: PCWIN64, Created on: Tue Jun 30 17:51:34 2020', '__version__': '1.0', '__globals__': [], 'param_value': array([[3.53504274e+00],\n",
      "       [2.81812225e+00],\n",
      "       [1.89341848e+00],\n",
      "       [7.29096951e-02],\n",
      "       [7.70395329e-03],\n",
      "       [7.18965571e-01],\n",
      "       [5.00434765e-01],\n",
      "       [4.23379968e-08]])}\n"
     ]
    }
   ],
   "source": [
    "mat500 = scipy.io.loadmat('ECM_parameter/BLF_D5_pO2_60%_T_500.mat')\n",
    "print(mat500)\n",
    "data = mat500['param_value']\n",
    "        \n",
    "Rinf = data[0]\n",
    "R1 = data[1]\n",
    "R2 = data[2]\n",
    "tau1 = data[3]\n",
    "tau2 = data[4]\n",
    "phi_1 = data[5]\n",
    "phi_2 = data[6]\n",
    "L = data[7]       \n",
    "\n",
    "Z_exp_ECM_1 = Rinf + 1j*2.*pi*freq_vec_1*L + R1/(1+(1j*2.*pi*freq_vec_1*tau1)**phi_1) + R2/(1+(1j*2.*pi*freq_vec_1*tau2)**phi_2)\n",
    "gamma_exact_1 = (R1)/(2.*pi)*sin((1.-phi_1)*pi)/(np.cosh(phi_1*np.log(tau_vec/tau1))-cos((1.-phi_1)*pi))\n",
    "gamma_exact_2 = (R2)/(2.*pi)*sin((1.-phi_2)*pi)/(np.cosh(phi_2*np.log(tau_vec/tau2))-cos((1.-phi_2)*pi))\n",
    "gamma_ECM_1 = (gamma_exact_1 +gamma_exact_2).reshape(N_taus)"
   ]
  },
  {
   "cell_type": "markdown",
   "metadata": {},
   "source": [
    "### 3.1) Nyquist plot to compare the recovered impedances from the fGP-DRT model and from the ECM\n",
    "### Figure 10(a) in fGP-DRT paper"
   ]
  },
  {
   "cell_type": "code",
   "execution_count": 157,
   "metadata": {},
   "outputs": [
    {
     "data": {
      "image/png": "[encoded data removed]",
      "text/plain": [
       "<Figure size 432x288 with 1 Axes>"
      ]
     },
     "metadata": {
      "needs_background": "light"
     },
     "output_type": "display_data"
    }
   ],
   "source": [
    "# plot of the impedance\n",
    "\n",
    "plt.plot(Z_exp.real, -Z_exp.imag, \"o\", markersize = 7, color=\"red\", label='exp')\n",
    "plt.plot(np.real(Z_exp_ECM_1), -np.imag(Z_exp_ECM_1),'--',  linewidth=2, color=\"blue\", label='ECM')\n",
    "plt.plot(Z_re_median, -Z_im_median, linewidth=2, color=\"black\", label='fGP-DRT')\n",
    "\n",
    "plt.plot(Z_exp_re[20:100:20], -Z_exp_im[20:100:20], 's', markersize=7, color='black')\n",
    "\n",
    "plt.rc('text', usetex=True)\n",
    "plt.rc('font', family='serif', size=15)\n",
    "plt.legend(frameon=False, fontsize = 15)\n",
    "plt.rc('xtick', labelsize=15)\n",
    "plt.rc('ytick', labelsize=15)\n",
    "\n",
    "plt.ylim(-0.1,3.0)\n",
    "\n",
    "plt.legend(frameon=False, fontsize = 15)\n",
    "plt.gca().set_aspect('equal', adjustable='box')\n",
    "plt.rcParams['text.latex.preamble'] = r'\\usepackage{amsmath}'\n",
    "plt.xlabel(r'$Z_{\\rm re}/\\Omega$', fontsize = 20)\n",
    "plt.ylabel(r'$-Z_{\\rm im}/\\Omega$', fontsize = 20)\n",
    "\n",
    "label_index = range(20,100,20)\n",
    "\n",
    "## You may use another range (move) for your own data\n",
    "move = [[-1.7, 0.001], [-0.01, 0.4], [0.8, -0.1], [-0.1, 1.0]]\n",
    "for k, ind in enumerate(label_index):\n",
    "    power = int(np.log10(freq_vec[ind]))\n",
    "    num = freq_vec[ind]/(10**(power))\n",
    "    plt.annotate(r'${0:.1f}\\times 10^{1}$'.format(num, power), xy=(Z_exp_re[ind],-Z_exp_im[ind]), \n",
    "                 xytext=(Z_exp_re[ind]+move[k][0], move[k][1]-Z_exp_im[ind]), \n",
    "                 arrowprops=dict(arrowstyle=\"-\", connectionstyle=\"arc\"))\n",
    "plt.show()"
   ]
  },
  {
   "cell_type": "markdown",
   "metadata": {},
   "source": [
    "### 3.2) Comparison of the DRTs from the fGP-DRT model and from the ECM \n",
    "\n",
    "### Figure 10(c)"
   ]
  },
  {
   "cell_type": "code",
   "execution_count": 158,
   "metadata": {},
   "outputs": [
    {
     "data": {
      "image/png": "[encoded data removed]",
      "text/plain": [
       "<Figure size 360x288 with 1 Axes>"
      ]
     },
     "metadata": {
      "needs_background": "light"
     },
     "output_type": "display_data"
    }
   ],
   "source": [
    "plt.semilogx(tau_vec, gamma_ECM_1,'--', linewidth=2, color=\"blue\", label='ECM')\n",
    "plt.semilogx(tau_vec, gamma_median, linewidth=2, color='black', label='fGP-DRT')\n",
    "plt.fill_between(tau_vec, gamma_percentile_0dot1, gamma_percentile_0dot9, \n",
    "                 color='0.25', alpha=0.25)\n",
    "##     \n",
    "plt.rc('text', usetex=True)\n",
    "plt.rc('font', family='serif', size=15)\n",
    "plt.xlim(1E-6, 1E3)\n",
    "plt.ylim(0, 1.5)\n",
    "plt.rc('xtick', labelsize=15)\n",
    "plt.rc('ytick', labelsize=15)\n",
    "plt.legend(frameon=False, fontsize = 15, loc= 'upper right')\n",
    "plt.xlabel(r'$\\tau/\\rm s$', fontsize=20)\n",
    "plt.ylabel(r'$\\gamma/\\Omega$', fontsize=20)\n",
    "\n",
    "fig = plt.gcf()\n",
    "fig.set_size_inches(5, 4)\n",
    "plt.show()"
   ]
  },
  {
   "cell_type": "markdown",
   "metadata": {},
   "source": [
    "### 3.3) Bode plots to compare the impedances from the fGP-DRT model and from the ECM\n",
    "### Figure 10(e)"
   ]
  },
  {
   "cell_type": "code",
   "execution_count": 159,
   "metadata": {},
   "outputs": [
    {
     "data": {
      "image/png": "[encoded data removed]",
      "text/plain": [
       "<Figure size 360x288 with 2 Axes>"
      ]
     },
     "metadata": {
      "needs_background": "light"
     },
     "output_type": "display_data"
    }
   ],
   "source": [
    "fig, (ax1, ax2) = plt.subplots(2, sharex=True)\n",
    "ax1.semilogx(freq_vec,Z_exp.real, 'o', markersize=7, color='red', label='exp')\n",
    "ax1.semilogx(freq_vec, np.real(Z_exp_ECM_1),'--', linewidth=2, color='blue', label='ECM')\n",
    "ax1.semilogx(freq_vec, Z_re_median, linewidth=2, color='black', label='fGP-DRT')\n",
    "ax1.fill_between(freq_vec, Z_re_percentile_0dot1, Z_re_percentile_0dot9, \n",
    "                 color='0.25', alpha=0.25)\n",
    "ax1.set_ylabel(r'$Z_{\\rm re}/\\Omega$', fontsize = 20)\n",
    "\n",
    "ax1.legend(frameon=False, fontsize = 15)\n",
    "\n",
    "ax2.semilogx(freq_vec, -Z_exp.imag, 'o', markersize=7, color='red', label='exp')\n",
    "ax2.semilogx(freq_vec,-np.imag(Z_exp_ECM_1),'--', linewidth=2, color='blue', label='ECM')\n",
    "ax2.semilogx(freq_vec, -Z_im_median, linewidth=2, color='black', label='fGP-DRT')\n",
    "ax2.fill_between(freq_vec, -Z_im_percentile_0dot1, -Z_im_percentile_0dot9, \n",
    "                 color='0.25', alpha=0.25)\n",
    "ax2.set_ylabel(r'$-Z_{\\rm im}/\\Omega$', fontsize = 20)\n",
    "\n",
    "plt.rc('text', usetex=True)\n",
    "plt.rc('font', family='serif', size=15)\n",
    "plt.rc('xtick', labelsize=15)\n",
    "plt.rc('ytick', labelsize=15)\n",
    "plt.xlabel(r'$f/{\\rm Hz}$', fontsize = 20)\n",
    "fig.set_size_inches(6.472, 4)\n",
    "\n",
    "fig.align_ylabels()\n",
    "fig.set_size_inches(5, 4)\n",
    "\n",
    "plt.show()"
   ]
  }
 ],
 "metadata": {
  "kernelspec": {
   "display_name": "Python 3",
   "language": "python",
   "name": "python3"
  },
  "language_info": {
   "codemirror_mode": {
    "name": "ipython",
    "version": 3
   },
   "file_extension": ".py",
   "mimetype": "text/x-python",
   "name": "python",
   "nbconvert_exporter": "python",
   "pygments_lexer": "ipython3",
   "version": "3.8.8"
  }
 },
 "nbformat": 4,
 "nbformat_minor": 4
}
