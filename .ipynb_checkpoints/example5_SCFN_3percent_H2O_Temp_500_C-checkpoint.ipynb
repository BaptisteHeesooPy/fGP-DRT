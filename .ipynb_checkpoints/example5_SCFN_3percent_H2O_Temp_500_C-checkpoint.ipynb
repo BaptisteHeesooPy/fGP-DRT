{
 "cells": [
  {
   "cell_type": "markdown",
   "metadata": {},
   "source": [
    "# The finite Gaussian Process Distribution of Relaxation Times (fGP-DRT)"
   ]
  },
  {
   "cell_type": "code",
   "execution_count": 1,
   "metadata": {},
   "outputs": [],
   "source": [
    "import numpy as np\n",
    "import pandas as pd\n",
    "import matplotlib.pyplot as plt\n",
    "from math import sin, cos, pi, log, sqrt\n",
    "import finite_GP_DRT\n",
    "from scipy.optimize import minimize\n",
    "import importlib\n",
    "importlib.reload(finite_GP_DRT)\n",
    "import os\n",
    "from matplotlib import gridspec\n",
    "import torch\n",
    "import scipy.io\n",
    "%matplotlib inline"
   ]
  },
  {
   "cell_type": "markdown",
   "metadata": {},
   "source": [
    "## 1) Experimental data from $\\rm Sr_{0.9}Ce_{0.1}Fe_{0.8}Ni_{0.2}O_{3-\\delta}$-based symmetric cells at $500^{\\circ}$ and with AIR-$3\\%\\rm H_2O$"
   ]
  },
  {
   "cell_type": "markdown",
   "metadata": {},
   "source": [
    "## Load the data"
   ]
  },
  {
   "cell_type": "code",
   "execution_count": 2,
   "metadata": {},
   "outputs": [
    {
     "data": {
      "text/html": [
       "<div>\n",
       "<style scoped>\n",
       "    .dataframe tbody tr th:only-of-type {\n",
       "        vertical-align: middle;\n",
       "    }\n",
       "\n",
       "    .dataframe tbody tr th {\n",
       "        vertical-align: top;\n",
       "    }\n",
       "\n",
       "    .dataframe thead th {\n",
       "        text-align: right;\n",
       "    }\n",
       "</style>\n",
       "<table border=\"1\" class=\"dataframe\">\n",
       "  <thead>\n",
       "    <tr style=\"text-align: right;\">\n",
       "      <th></th>\n",
       "      <th>Freq</th>\n",
       "      <th>Re</th>\n",
       "      <th>Im</th>\n",
       "    </tr>\n",
       "  </thead>\n",
       "  <tbody>\n",
       "    <tr>\n",
       "      <th>0</th>\n",
       "      <td>199998.1</td>\n",
       "      <td>5.6101</td>\n",
       "      <td>0.65871</td>\n",
       "    </tr>\n",
       "    <tr>\n",
       "      <th>1</th>\n",
       "      <td>135280.6</td>\n",
       "      <td>5.6205</td>\n",
       "      <td>0.43331</td>\n",
       "    </tr>\n",
       "  </tbody>\n",
       "</table>\n",
       "</div>"
      ],
      "text/plain": [
       "       Freq      Re       Im\n",
       "0  199998.1  5.6101  0.65871\n",
       "1  135280.6  5.6205  0.43331"
      ]
     },
     "execution_count": 2,
     "metadata": {},
     "output_type": "execute_result"
    }
   ],
   "source": [
    "df=pd.read_csv('./exp_data/500-AIR-3H2O.csv')\n",
    "##\n",
    "N_freqs = df.shape[0]\n",
    "freq_vec = np.flip(df['Freq'].values)\n",
    "Z_exp = np.flip(df['Re'].values + 1j*df['Im'].values)\n",
    "##\n",
    "Z_exp_re = Z_exp.real\n",
    "Z_exp_im = Z_exp.imag\n",
    "df.head(2)"
   ]
  },
  {
   "cell_type": "markdown",
   "metadata": {},
   "source": [
    "### Define the range of log timescales"
   ]
  },
  {
   "cell_type": "code",
   "execution_count": 3,
   "metadata": {},
   "outputs": [],
   "source": [
    "# define tau range (as in previous papers tau=1/f)\n",
    "N_taus = 43\n",
    "log_tau_min = -6  \n",
    "log_tau_max = 2   \n",
    "\n",
    "tau_vec = np.logspace(log_tau_min, log_tau_max, num = N_taus, endpoint=True)\n",
    "log_tau_vec = np.log(tau_vec)"
   ]
  },
  {
   "cell_type": "markdown",
   "metadata": {},
   "source": [
    "### We define $\\mathbf Z_{\\rm re-im} = \\begin{pmatrix}\n",
    " \\mathbf{Z}_{\\rm re} \\\\\n",
    " \\mathbf{Z}_{\\rm im} \n",
    "\\end{pmatrix}$"
   ]
  },
  {
   "cell_type": "code",
   "execution_count": 4,
   "metadata": {},
   "outputs": [],
   "source": [
    "Z_exp_re_im = np.zeros(2*N_freqs)\n",
    "Z_exp_re_im[:N_freqs] = Z_exp.real\n",
    "Z_exp_re_im[N_freqs:] = Z_exp.imag"
   ]
  },
  {
   "cell_type": "markdown",
   "metadata": {},
   "source": [
    "## 2) Nyquist plot of SCFN impedance "
   ]
  },
  {
   "cell_type": "code",
   "execution_count": 5,
   "metadata": {},
   "outputs": [
    {
     "data": {
      "image/png": "[encoded data removed]",
      "text/plain": [
       "<Figure size 465.984x288 with 1 Axes>"
      ]
     },
     "metadata": {
      "needs_background": "light"
     },
     "output_type": "display_data"
    }
   ],
   "source": [
    "plt.rc('text', usetex=True)\n",
    "plt.rc('font', family='serif', size=15)\n",
    "plt.rc('xtick', labelsize=15)\n",
    "plt.rc('ytick', labelsize=15)\n",
    "\n",
    "# Nyquist plot of the impedance\n",
    "plt.plot(np.real(Z_exp), -np.imag(Z_exp), 'o', markersize=7, color='red', label='exp')\n",
    "plt.plot(np.real(Z_exp[5:40:10]), -np.imag(Z_exp[5:40:10]), 's', markersize=7, color='black')\n",
    "plt.legend(frameon=False, fontsize = 15)\n",
    "plt.axis('scaled')\n",
    "plt.ylim(-0.25,2.0)\n",
    "#plt.xticks(np.linspace(1.1,1.6,6))\n",
    "#plt.yticks(np.linspace(0, 0.4,6))\n",
    "plt.gca().set_aspect('equal', adjustable='box')\n",
    "plt.xlabel(r'$Z_{\\rm re}/{\\rm m}\\Omega$', fontsize = 20)\n",
    "plt.ylabel(r'$-Z_{\\rm im}/{\\rm m}\\Omega$', fontsize = 20)\n",
    "\n",
    "fig = plt.gcf()\n",
    "fig.set_size_inches(6.472, 4)\n",
    "# label the frequencies - if you wish to use your own data you may need to modify this\n",
    "label_index = range(5,40,10)\n",
    "##\n",
    "move = [[-1.1, -0.2], [-0.5, 0.3], [0.05, 0.4], [0.3, -0.2]]\n",
    "for k, ind in enumerate(label_index):\n",
    "    power = int(np.log10(freq_vec[ind]))\n",
    "    num = freq_vec[ind]/(10**(power))\n",
    "    plt.annotate(r'${0:.1f}\\times 10^{1}$'.format(num, power), xy=(np.real(Z_exp[ind]), -np.imag(Z_exp[ind])), \n",
    "                 xytext=(np.real(Z_exp[ind])+move[k][0], move[k][1]-np.imag(Z_exp[ind])), \n",
    "                 arrowprops=dict(arrowstyle=\"-\", connectionstyle=\"arc\"))\n",
    "#\n",
    "plt.savefig('figs/fig_5/fig_10_aa.eps', dpi=300, bbox_inches='tight')\n",
    "plt.savefig('figs/fig_5/fig_10_aa.svg', dpi=300, bbox_inches='tight')\n",
    "plt.savefig('figs/fig_5/fig_10_aa.png', dpi=300, bbox_inches='tight')\n",
    "plt.savefig('figs/fig_5/fig_10_aa.pdf', dpi=300, bbox_inches='tight')\n",
    "plt.show()"
   ]
  },
  {
   "cell_type": "code",
   "execution_count": null,
   "metadata": {},
   "outputs": [],
   "source": []
  },
  {
   "cell_type": "markdown",
   "metadata": {},
   "source": [
    "### 2.1) Compute the matrix $\\mathbf A$\n",
    "As the nodal points $\\log \\tau$ are set we can defined once and for all\n",
    "$$\\mathbf A := \\begin{pmatrix}\n",
    "0 & \\mathbf 1 & \\mathbf A_{\\rm re} \\\\\n",
    "\\boldsymbol \\omega & 0 & \\mathbf A_{\\rm im}\n",
    "\\end{pmatrix}$$\n",
    "where $\\mathbf 1 \\in \\mathbb R^{N_f\\times 1}$ and $\\boldsymbol \\omega = 2\\pi \\mathbf f$ with $\\mathbf f = \\left(f_1,f_2, \\ldots, f_M\\right)^\\top$ being the experimental frequencies."
   ]
  },
  {
   "cell_type": "code",
   "execution_count": 6,
   "metadata": {},
   "outputs": [],
   "source": [
    "# compute A_re and A_im\n",
    "A_re = finite_GP_DRT.compute_A_re(freq_vec, tau_vec)\n",
    "A_im = finite_GP_DRT.compute_A_im(freq_vec, tau_vec)\n",
    "\n",
    "# matrix A\n",
    "A = np.zeros((2*N_freqs, N_taus+2))\n",
    "# real part\n",
    "A[:N_freqs, 1] = 1.0 \n",
    "A[:N_freqs, 2:] = A_re\n",
    "# imaginary part\n",
    "A[N_freqs:, 0] = 2*pi*freq_vec*1E-4 # above note normalization by 1E-4\n",
    "A[N_freqs:, 2:] = A_im"
   ]
  },
  {
   "cell_type": "markdown",
   "metadata": {},
   "source": [
    "### 2.2) Selection of the optimal hyperparameters of the unconstrained GP-DRT model by minimizing the negative marginal log-likelihood (NMLL)"
   ]
  },
  {
   "cell_type": "markdown",
   "metadata": {},
   "source": [
    "The values of the hyperparameter vector $\\boldsymbol{\\theta}$ were obtained by maximizing the experimental evidence, i.e., by maximizing the probability $p(\\mathbf{Z} = \\mathbf{Z}_{\\rm exp}|\\mathbf{x}, \\boldsymbol \\theta)$   of the experiment under no constraint on $\\mathbf{x}$.\n",
    "\n",
    "$$\n",
    "\\log\\left(\\mathbf{Z} = \\mathbf{Z}_{\\rm exp}|\\mathbf x, \\boldsymbol\\theta\\right) = - \\frac{1}{2} \\mathbf{Z}_{\\rm exp}^\\top \\mathbf (A\\boldsymbol{\\Gamma}A^{\\top} + \\sigma_{n}^{2}\\mathbf{I})^{-1}\\mathbf{Z}_{\\rm exp} -\\frac{1}{2} \\log(|A\\boldsymbol{\\Gamma}A^{\\top} + \\sigma_{n}^{2}\\mathbf{I}|) - \\frac{N+2}{2} \\log \\left( 2\\pi\\right)\n",
    "$$\n",
    "In the actual implementation\n",
    "$$\n",
    "L(\\boldsymbol{\\theta}) = -\\log\\left(\\mathbf{Z} = \\mathbf{Z}_{\\rm exp}|\\mathbf x, \\boldsymbol\\theta\\right)-\\frac{N+2}{2} \\log \\left( 2\\pi\\right)\n",
    "$$\n",
    "\n",
    "The above minimization problem is solved using the `optimize` function from `scipy`."
   ]
  },
  {
   "cell_type": "markdown",
   "metadata": {},
   "source": [
    "#### 2.2.1) Initialization of the parameters for the NMLL minimization"
   ]
  },
  {
   "cell_type": "code",
   "execution_count": 7,
   "metadata": {},
   "outputs": [],
   "source": [
    "# initial parameters to maximize the marginal log-likelihood\n",
    "sigma_n = 2.1  \n",
    "sigma_L = 0.1   \n",
    "sigma_R = 1.1   \n",
    "sigma_f = 0.1   \n",
    "ell =  1.2      \n",
    "\n",
    "theta_0 = np.array([sigma_n, sigma_L, sigma_R, sigma_f, ell])"
   ]
  },
  {
   "cell_type": "markdown",
   "metadata": {},
   "source": [
    "#### 2.2.2) NMLL optimization"
   ]
  },
  {
   "cell_type": "code",
   "execution_count": 8,
   "metadata": {},
   "outputs": [
    {
     "name": "stdout",
     "output_type": "stream",
     "text": [
      "sigma_n,   sigma_L,   sigma_R,   sigma_f,   ell\n",
      "1.6841022  -0.0135816  1.3444861  0.9678448  1.2346444\n",
      "0.0320171  0.4135176  1.7505754  1.6912832  1.2544120\n",
      "0.0071598  0.4137713  1.7543264  1.7020650  1.2549003\n",
      "0.0078631  0.4142159  1.7535239  1.6991066  1.2547917\n",
      "0.0076149  0.4189581  1.7462514  1.6715537  1.2537350\n",
      "0.0067361  0.4702250  1.6673317  1.3727429  1.2422903\n",
      "0.0065069  0.5271598  1.5795620  1.0405230  1.2295647\n",
      "0.0064329  0.6091227  1.4531668  0.5621332  1.2112400\n",
      "0.0065172  0.6352638  1.4128373  0.4095033  1.2053941\n",
      "0.0066457  0.6530710  1.3853538  0.3055106  1.2014029\n",
      "0.0098270  0.5943455  1.4552590  0.2926943  1.4650531\n",
      "0.0094216  0.6032543  1.4437794  0.2794134  1.4357994\n",
      "0.0086988  0.6048725  1.4441880  0.3189531  1.4010132\n",
      "0.0089454  0.6025510  1.4458539  0.2993752  1.4248818\n",
      "0.0091410  0.5898230  1.4592467  0.2629033  1.5059963\n",
      "0.0092173  0.5655213  1.4884352  0.2558726  1.6164478\n",
      "0.0089854  0.4974011  1.5742808  0.3031181  1.8764659\n",
      "0.0085723  0.4769888  1.6024477  0.3592777  1.9236082\n",
      "0.0085600  0.4410151  1.6498683  0.4215356  2.0339431\n",
      "0.0087264  0.4434148  1.6474594  0.4234913  2.0214083\n",
      "0.0086857  0.4406155  1.6518376  0.4395874  2.0217100\n",
      "0.0086332  0.4416247  1.6508621  0.4435980  2.0142493\n",
      "0.0086286  0.4413126  1.6513406  0.4450784  2.0144778\n",
      "0.0086654  0.4409772  1.6522880  0.4433316  2.0154860\n",
      "0.0087235  0.4395574  1.6566100  0.4404488  2.0161137\n",
      "0.0091191  0.4261644  1.7006194  0.4310156  2.0026146\n",
      "0.0091623  0.4184217  1.7253617  0.4213649  1.9986971\n",
      "0.0091043  0.3401521  1.9752768  0.3066673  1.9677273\n",
      "0.0090130  0.2912226  2.1366939  0.3257663  1.8800220\n",
      "0.0087336  0.0977760  2.7638370  0.2760360  1.6300162\n",
      "0.0087090  0.0073597  3.0561392  0.2499631  1.5174734\n",
      "0.0087088  0.0065680  3.0586996  0.2497199  1.5164943\n",
      "0.0085652  0.0054287  3.0593998  0.2706213  1.5090098\n",
      "0.0086831  0.0053847  3.0583636  0.2745737  1.5100410\n",
      "0.0087531  0.0055062  3.0558655  0.2789915  1.5132259\n",
      "0.0088087  0.0051151  3.0541172  0.2810341  1.5194788\n",
      "0.0088692  0.0053129  3.0460454  0.2868791  1.5357683\n",
      "0.0089615  0.0054745  3.0191639  0.3000155  1.5972108\n",
      "0.0090403  0.0057690  2.9397144  0.3328315  1.7834366\n",
      "0.0088268  0.0056548  2.9429293  0.3353371  1.7763937\n",
      "0.0086989  0.0054152  2.9360115  0.3375458  1.7964659\n",
      "0.0087063  0.0053296  2.9419116  0.3320702  1.7851342\n",
      "0.0087137  0.0053290  2.9461749  0.3277677  1.7769713\n",
      "0.0087126  0.0053718  2.9451626  0.3272351  1.7800692\n",
      "0.0087168  0.0053757  2.9438861  0.3282882  1.7836980\n",
      "0.0087184  0.0053740  2.9446278  0.3279494  1.7827935\n",
      "0.0087245  0.0053429  2.9493926  0.3266417  1.7813364\n",
      "0.0087474  0.0051304  3.0053732  0.3165983  1.7589597\n",
      "0.0087491  0.0052131  3.1055588  0.3014437  1.7202600\n",
      "0.0087390  0.0054193  3.1342363  0.3026698  1.7098055\n",
      "0.0088177  0.0054530  3.3082682  0.3024994  1.6573476\n",
      "0.0086912  0.0054243  3.3258020  0.3043445  1.6571684\n",
      "0.0086970  0.0054451  3.3158020  0.3083535  1.6747441\n",
      "0.0086886  0.0053603  3.3830106  0.3230439  1.7432399\n",
      "0.0084886  0.0058559  4.5834582  0.3453650  1.7666255\n",
      "0.0086731  0.0057506  5.1396172  0.3618289  1.8759706\n",
      "0.0086978  0.0056184  5.1057606  0.3538043  1.8384515\n",
      "0.0087201  0.0053784  5.2220832  0.3395730  1.7936415\n",
      "0.0087236  0.0051121  5.5387855  0.3372961  1.8001890\n",
      "0.0087268  0.0051558  5.6729568  0.3332876  1.7928370\n",
      "0.0087335  0.0054294  5.6545858  0.3337887  1.7981691\n",
      "0.0087333  0.0054669  5.6521698  0.3341672  1.7996097\n",
      "0.0087166  0.0054690  5.6522965  0.3338252  1.8001388\n",
      "0.0087121  0.0054546  5.6505359  0.3337555  1.8001682\n",
      "0.0087084  0.0054384  5.6487919  0.3337113  1.8000542\n",
      "0.0087128  0.0054103  5.6491212  0.3337752  1.8000717\n",
      "0.0087135  0.0053996  5.6488361  0.3337525  1.8000855\n",
      "0.0087137  0.0053926  5.6483416  0.3337926  1.8000618\n",
      "0.0087137  0.0053890  5.6479560  0.3338235  1.8000353\n"
     ]
    }
   ],
   "source": [
    "seq_theta = np.copy(theta_0)\n",
    "def print_results(theta):\n",
    "    global seq_theta\n",
    "    seq_theta = np.vstack((seq_theta, theta))\n",
    "    print('{0:.7f}  {1:.7f}  {2:.7f}  {3:.7f}  {4:.7f}'.format(theta[0], theta[1], theta[2], theta[3], theta[4]))\n",
    "\n",
    "print('sigma_n,   sigma_L,   sigma_R,   sigma_f,   ell')\n",
    "\n",
    "# minimize the NMLL L(\\theta) w.r.t sigma_n, sigma_R, sigma_f, and ell\n",
    "res = minimize(finite_GP_DRT.NMLL_L_fct, theta_0, args=(A, Z_exp_re_im, N_freqs, log_tau_vec), method='L-BFGS-B', \\\n",
    "                callback=print_results, options={'disp': True})\n",
    "\n",
    "# collect the optimized parameters\n",
    "sigma_n, sigma_L, sigma_R, sigma_f, ell = res.x"
   ]
  },
  {
   "cell_type": "code",
   "execution_count": 9,
   "metadata": {},
   "outputs": [
    {
     "data": {
      "text/plain": [
       "array([8.71370198e-03, 5.38898139e-03, 5.64795604e+00, 3.33823474e-01,\n",
       "       1.80003531e+00])"
      ]
     },
     "execution_count": 9,
     "metadata": {},
     "output_type": "execute_result"
    }
   ],
   "source": [
    "# show optimal hyperparameters\n",
    "res.x"
   ]
  },
  {
   "cell_type": "markdown",
   "metadata": {},
   "source": [
    "### 2.3) Definition of the covariance matrix $\\mathbf K$ with the optimized $\\boldsymbol \\theta$"
   ]
  },
  {
   "cell_type": "code",
   "execution_count": 10,
   "metadata": {},
   "outputs": [],
   "source": [
    "# compute the matrix K\n",
    "K = finite_GP_DRT.compute_K(log_tau_vec, sigma_f, ell)"
   ]
  },
  {
   "cell_type": "markdown",
   "metadata": {},
   "source": [
    "### 2.4) Building the augmented covariance matrix $\\boldsymbol{\\Gamma}$\n",
    "\n",
    "$$\\mathbf \\Gamma := \\begin{pmatrix}\n",
    "\\mathbf \\sigma_L^2 & 0 & 0 \\\\\n",
    "0 & \\mathbf \\sigma_R^2 & 0\\\\\n",
    "0 & 0 & \\mathbf K\n",
    "\\end{pmatrix}$$"
   ]
  },
  {
   "cell_type": "code",
   "execution_count": 11,
   "metadata": {},
   "outputs": [],
   "source": [
    "# compute the matrix Gamma\n",
    "Gamma = np.zeros((N_taus+2, N_taus+2))\n",
    "Gamma[0,0] = sigma_L**2\n",
    "Gamma[1,1] = sigma_R**2\n",
    "Gamma[2:, 2:] = K"
   ]
  },
  {
   "cell_type": "markdown",
   "metadata": {},
   "source": [
    "### 2.5) Definition of $\\mathbf \\Psi$ and $\\mathbf \\Xi$\n",
    "\n",
    "$$\\mathbf \\Psi = \\mathbf A \\mathbf \\Gamma \\mathbf A^\\top + \\sigma_n^2 \\mathbf I$$ \n",
    "and \n",
    "\n",
    "$$\\mathbf \\Xi = \\mathbf \\Gamma \\mathbf A^\\top$$"
   ]
  },
  {
   "cell_type": "code",
   "execution_count": 12,
   "metadata": {},
   "outputs": [],
   "source": [
    "# put together the matrix Gamma\n",
    "Psi = A@(Gamma@A.T)+(sigma_n**2)*np.eye(2*N_freqs)\n",
    "Psi = 0.5*(Psi + Psi.T) # symmetrize\n",
    "Xi = Gamma@A.T"
   ]
  },
  {
   "cell_type": "markdown",
   "metadata": {},
   "source": [
    "### 2.6) Factorization of the matrices and solving of the unconstrained problem\n",
    "We are computing\n",
    "$$\n",
    "\\mathbf x|\\mathbf Z=Z_{\\rm exp}\\sim \\mathcal N\\left( \\boldsymbol \\mu_{x|Z}, \\boldsymbol \\Sigma_{x|Z} \\right)\n",
    "$$\n",
    "\n",
    "using \n",
    "$$\n",
    "\\begin{align}\n",
    "\\boldsymbol \\mu_{x|Z} &= \\mathbf \\Xi \\mathbf \\Psi^{-1}\\mathbf Z_{\\rm exp} \\\\\n",
    "\\boldsymbol \\Sigma_{x|Z} &= \\mathbf \\Gamma - \\mathbf \\Xi \\mathbf \\Psi^{-1} \\mathbf \\Xi^\\top\n",
    "\\end{align}\n",
    "$$\n",
    "\n",
    "The key step is to do Cholesky factorization of $\\mathbf \\Psi^{-1}$"
   ]
  },
  {
   "cell_type": "code",
   "execution_count": 13,
   "metadata": {},
   "outputs": [],
   "source": [
    "# Cholesky factorization L of Psi -L is a lower-triangular matrix-\n",
    "L = np.linalg.cholesky(Psi)\n",
    "\n",
    "# solve for alpha\n",
    "alpha = np.linalg.solve(L, Z_exp_re_im)\n",
    "alpha = np.linalg.solve(L.T, alpha)\n",
    "\n",
    "# obtain mu_x\n",
    "mu_x_given_Z = np.dot(Xi, alpha)\n",
    "\n",
    "# covariance matrix\n",
    "inv_L = np.linalg.inv(L)\n",
    "inv_Psi = np.dot(inv_L.T, inv_L)\n",
    "\n",
    "# estimate the covariance matrix of gamma for eq (21b)\n",
    "Sigma_x_given_Z = Gamma - Xi@(inv_Psi@Xi.T)\n",
    "\n",
    "# useful definition for plots\n",
    "R_inf_unc = mu_x_given_Z[0]\n",
    "cov_R_inf_unc = Sigma_x_given_Z[0, 0]\n",
    "\n",
    "gamma_GP_unc = mu_x_given_Z[2:]\n",
    "Sigma_GP_unc = Sigma_x_given_Z[2:, 2:]"
   ]
  },
  {
   "cell_type": "markdown",
   "metadata": {},
   "source": [
    "### 2.7)  Sample of the DRT under positivity constraint\n",
    "\n",
    "We now sample\n",
    "$$\n",
    "\\mathbf x|\\mathbf Z=Z_{\\rm exp}\\sim {\\mathcal TN}\\left( \\boldsymbol \\mu_{x|Z}, \\boldsymbol \\Sigma_{x|Z}, \\mathbf 0, \\infty \\right)\n",
    "$$"
   ]
  },
  {
   "cell_type": "code",
   "execution_count": 14,
   "metadata": {},
   "outputs": [
    {
     "name": "stdout",
     "output_type": "stream",
     "text": [
      "Current sample number 1000 / 10000\n",
      "Current sample number 2000 / 10000\n",
      "Current sample number 3000 / 10000\n",
      "Current sample number 4000 / 10000\n",
      "Current sample number 5000 / 10000\n",
      "Current sample number 6000 / 10000\n",
      "Current sample number 7000 / 10000\n",
      "Current sample number 8000 / 10000\n",
      "Current sample number 9000 / 10000\n",
      "Current sample number 10000 / 10000\n"
     ]
    }
   ],
   "source": [
    "# inputs to the Hamilton Monte-Carlo sampler\n",
    "# F*X+g >0\n",
    "F = np.eye(N_taus+2) \n",
    "g = np.zeros(N_taus+2) # np.finfo(float).eps*np.ones(N_taus)\n",
    "# covariance & mean\n",
    "M = Sigma_x_given_Z + 1E-8*np.eye(N_taus+2)\n",
    "mu_r = mu_x_given_Z\n",
    "# initial val\n",
    "initial_x_given_Z = np.abs(mu_x_given_Z)\n",
    "samples_raw = finite_GP_DRT.generate_tmg(F, g, M, mu_r, initial_x_given_Z, cov=True, L=10000)"
   ]
  },
  {
   "cell_type": "code",
   "execution_count": 15,
   "metadata": {},
   "outputs": [],
   "source": [
    "# postprocessing\n",
    "samples = samples_raw[:,1000:] # remove burn in\n",
    "samples_gamma = samples[2:,:] # slice out only samples of gamma\n",
    "samples_Z_re_im = A@samples # samples of Z_re_im"
   ]
  },
  {
   "cell_type": "markdown",
   "metadata": {},
   "source": [
    "### 2.8)  Plot of the constrained DRT"
   ]
  },
  {
   "cell_type": "code",
   "execution_count": 16,
   "metadata": {},
   "outputs": [
    {
     "name": "stderr",
     "output_type": "stream",
     "text": [
      "The PostScript backend does not support transparency; partially transparent artists will be rendered opaque.\n",
      "The PostScript backend does not support transparency; partially transparent artists will be rendered opaque.\n",
      "The PostScript backend does not support transparency; partially transparent artists will be rendered opaque.\n"
     ]
    },
    {
     "data": {
      "image/png": "[encoded data removed]",
      "text/plain": [
       "<Figure size 432x288 with 1 Axes>"
      ]
     },
     "metadata": {
      "needs_background": "light"
     },
     "output_type": "display_data"
    }
   ],
   "source": [
    "gamma_avg = np.average(samples_gamma,axis=1)\n",
    "gamma_std = np.std(samples_gamma,axis=1)\n",
    "gamma_median = np.nanmedian(samples_gamma,axis=1)\n",
    "gamma_percentile_0dot1 = np.percentile(samples_gamma, 1, axis=1)\n",
    "gamma_percentile_0dot5 = np.percentile(samples_gamma, 50, axis=1)\n",
    "gamma_percentile_0dot9 = np.percentile(samples_gamma, 99, axis=1)\n",
    "\n",
    "# plot the DRT and its confidence region\n",
    "plt.semilogx(1/tau_vec, gamma_median, linewidth=2, color='black', label='fGP-DRT')\n",
    "plt.fill_between(1/tau_vec, gamma_percentile_0dot1, gamma_percentile_0dot9, \n",
    "                 color='0.25', alpha=0.25)\n",
    "\n",
    "plt.rc('text', usetex=True)\n",
    "plt.rc('font', family='serif', size=15)\n",
    "plt.rc('xtick', labelsize=15)\n",
    "plt.rc('ytick', labelsize=15)\n",
    "plt.axis([1E-2, 1E6, 0 ,1.5])\n",
    "plt.legend(frameon=False, fontsize = 15)\n",
    "plt.xlabel(r'$\\log\\left(\\tau/{\\rm s}\\right)$', fontsize = 20)\n",
    "plt.ylabel(r'$\\gamma/\\Omega$', fontsize = 20)\n",
    "fig.set_size_inches(6.472, 4)\n",
    "plt.savefig('figs/fig_5/fig_10_c_constr.eps', dpi=300, bbox_inches='tight')\n",
    "plt.savefig('figs/fig_5/fig_10_c_constr.svg', dpi=300, bbox_inches='tight')\n",
    "plt.savefig('figs/fig_5/fig_10_c_constr.pdf', dpi=300, bbox_inches='tight')\n",
    "plt.savefig('figs/fig_5/fig_10_c_constr.png', dpi=300, bbox_inches='tight')\n",
    "\n",
    "plt.show()\n"
   ]
  },
  {
   "cell_type": "markdown",
   "metadata": {},
   "source": [
    "### 2.9)  Plot of the impedance"
   ]
  },
  {
   "cell_type": "code",
   "execution_count": 17,
   "metadata": {},
   "outputs": [],
   "source": [
    "Z_re_im_avg = np.average(samples_Z_re_im,axis=1)\n",
    "Z_re_im_std = np.std(samples_Z_re_im,axis=1)\n",
    "Z_re_im_median = np.nanmedian(samples_Z_re_im,axis=1)\n",
    "Z_re_im_percentile_0dot1 = np.percentile(samples_Z_re_im, 1, axis=1)\n",
    "Z_re_im_percentile_0dot5 = np.percentile(samples_Z_re_im, 50, axis=1)\n",
    "Z_re_im_percentile_0dot9 = np.percentile(samples_Z_re_im, 99, axis=1)\n",
    "\n",
    "Z_re_median = Z_re_im_median[:N_freqs]\n",
    "Z_im_median = Z_re_im_median[N_freqs:]\n",
    "\n",
    "Z_re_percentile_0dot1 = Z_re_im_percentile_0dot1[:N_freqs]\n",
    "Z_re_percentile_0dot9 = Z_re_im_percentile_0dot9[:N_freqs]\n",
    "Z_im_percentile_0dot1 = Z_re_im_percentile_0dot1[N_freqs:]\n",
    "Z_im_percentile_0dot9 = Z_re_im_percentile_0dot9[N_freqs:]"
   ]
  },
  {
   "cell_type": "code",
   "execution_count": 18,
   "metadata": {},
   "outputs": [
    {
     "name": "stderr",
     "output_type": "stream",
     "text": [
      "The PostScript backend does not support transparency; partially transparent artists will be rendered opaque.\n",
      "The PostScript backend does not support transparency; partially transparent artists will be rendered opaque.\n",
      "The PostScript backend does not support transparency; partially transparent artists will be rendered opaque.\n",
      "The PostScript backend does not support transparency; partially transparent artists will be rendered opaque.\n",
      "The PostScript backend does not support transparency; partially transparent artists will be rendered opaque.\n",
      "The PostScript backend does not support transparency; partially transparent artists will be rendered opaque.\n"
     ]
    },
    {
     "data": {
      "image/png": "[encoded data removed]",
      "text/plain": [
       "<Figure size 465.984x288 with 2 Axes>"
      ]
     },
     "metadata": {
      "needs_background": "light"
     },
     "output_type": "display_data"
    }
   ],
   "source": [
    "fig, (ax1, ax2) = plt.subplots(2, sharex=True)\n",
    "\n",
    "ax1.semilogx(freq_vec, Z_exp.real, 'o', markersize=7, color='red', label='exp')\n",
    "ax1.semilogx(freq_vec, Z_re_median, linewidth=2, color='black', label='fGP-DRT')\n",
    "ax1.fill_between(freq_vec, Z_re_percentile_0dot1, Z_re_percentile_0dot9, \n",
    "                 color='0.25', alpha=0.25)\n",
    "ax1.set_ylabel(r'$Z_{\\rm re}/\\Omega$', fontsize = 20)\n",
    "#ax1.axis([1E-4, 1E4, 0, 65])\n",
    "ax1.legend(frameon=False, fontsize = 15)\n",
    "#ax1.set_yticks(np.arange(0, 70, step=20)) \n",
    "\n",
    "ax2.semilogx(freq_vec, -Z_exp.imag, 'o', markersize=7, color='red', label='exp')\n",
    "ax2.semilogx(freq_vec, -Z_im_median, linewidth=2, color='black', label='fGP-DRT')\n",
    "ax2.fill_between(freq_vec, -Z_im_percentile_0dot1, -Z_im_percentile_0dot9, \n",
    "                 color='0.25', alpha=0.25)\n",
    "ax2.set_ylabel(r'$-Z_{\\rm im}/\\Omega$', fontsize = 20)\n",
    "#ax2.axis([1E-3, 1E3, 0, 1.6])\n",
    "\n",
    "plt.rc('text', usetex=True)\n",
    "plt.rc('font', family='serif', size=15)\n",
    "plt.rc('xtick', labelsize=15)\n",
    "plt.rc('ytick', labelsize=15)\n",
    "plt.xlabel(r'$f/{\\rm Hz}$', fontsize = 20)\n",
    "fig.set_size_inches(6.472, 4)\n",
    "\n",
    "fig.align_ylabels()\n",
    "plt.savefig('figs/fig_5/fig_10_d_constr.eps', dpi=300, bbox_inches='tight')\n",
    "plt.savefig('figs/fig_5/fig_10_d_constr.svg', dpi=300, bbox_inches='tight')\n",
    "plt.savefig('figs/fig_5/fig_10_d_constr.pdf', dpi=300, bbox_inches='tight')\n",
    "plt.savefig('figs/fig_5/fig_10_d_constr.png', dpi=300, bbox_inches='tight')\n",
    "\n",
    "plt.show()"
   ]
  },
  {
   "cell_type": "code",
   "execution_count": null,
   "metadata": {},
   "outputs": [],
   "source": []
  },
  {
   "cell_type": "markdown",
   "metadata": {},
   "source": [
    "# 3) Comparisong of the fGP-DRT model with an ECM consisting of two ZARCs"
   ]
  },
  {
   "cell_type": "markdown",
   "metadata": {},
   "source": [
    "### Load data"
   ]
  },
  {
   "cell_type": "code",
   "execution_count": 19,
   "metadata": {},
   "outputs": [],
   "source": [
    "df=pd.read_csv('./data_recovered/SCFN_500-AIR-3H2O_DATA_EIS.csv')\n",
    "N_freqs = df.shape[0]\n",
    "\n",
    "freq_vec_1 = df['freqs'].to_numpy().reshape(N_freqs,1)\n",
    "Z_re_GP_1 = df['Z_re_median'].to_numpy().reshape(N_freqs,1)\n",
    "Z_im_GP_1 = df['Z_im_median'].to_numpy().reshape(N_freqs,1)\n",
    "Z_exp_re = df['Z_exp_real'].to_numpy().reshape(N_freqs,1)\n",
    "Z_exp_im = df['Z_exp_imag'].to_numpy().reshape(N_freqs,1)\n",
    "\n",
    "dg = df=pd.read_csv('./data_recovered/SCFN_500-AIR-3H2O_DATA_tau_vec_gamma.csv')\n",
    "\n",
    "N_taus = dg.shape[0]\n",
    "tau_vec = dg['tau_vec'].to_numpy().reshape(N_taus,1)\n",
    "gamma_GP_unc_1 = dg['gamma_GP_unc'].to_numpy().reshape(N_taus,1)\n",
    "gamma_GP_con_1 = dg['gamma_median_constr'].to_numpy().reshape(N_taus,1)"
   ]
  },
  {
   "cell_type": "code",
   "execution_count": 20,
   "metadata": {},
   "outputs": [],
   "source": [
    "dinterval = (pd.read_csv('./data_recovered/SCFN_500_3H2Oconst_upper_and_lower_bound.csv'))/10\n",
    "SCFN_AIR_3H2O_upper = dinterval['upper_bound_constr']\n",
    "SCFN_AIR_3H2O_lower = dinterval['lower_bound_constr']\n",
    "#"
   ]
  },
  {
   "cell_type": "markdown",
   "metadata": {},
   "source": [
    "### Load ECM parameters for the SCFN at $500^{\\circ}$ and with AIR-$3\\%\\rm H_2O$"
   ]
  },
  {
   "cell_type": "code",
   "execution_count": 21,
   "metadata": {},
   "outputs": [
    {
     "name": "stdout",
     "output_type": "stream",
     "text": [
      "{'__header__': b'MATLAB 5.0 MAT-file, Platform: PCWIN64, Created on: Mon Jul 26 09:34:42 2021', '__version__': '1.0', '__globals__': [], 'param_value': array([[5.56745541e+00],\n",
      "       [2.39721210e+00],\n",
      "       [1.39137953e+00],\n",
      "       [1.02233155e-01],\n",
      "       [1.53693045e-02],\n",
      "       [6.41319112e-01],\n",
      "       [3.22551573e-01],\n",
      "       [5.38622065e-07]])}\n"
     ]
    }
   ],
   "source": [
    "mat22 = scipy.io.loadmat('ECM_parameter/SCFN_500-AIR-3H2O_DATA.mat')\n",
    "print(mat22)\n",
    "data = mat22['param_value']\n",
    "        \n",
    "Rinf = data[0]\n",
    "R1 = data[1]\n",
    "R2 = data[2]\n",
    "tau1 = data[3]\n",
    "tau2 = data[4]\n",
    "phi_1 = data[5]\n",
    "phi_2 = data[6]\n",
    "L = data[7]       \n",
    "\n",
    "Z_exp_ECM_1 = Rinf + 1j*2.*pi*freq_vec_1*L + R1/(1+(1j*2.*pi*freq_vec_1*tau1)**phi_1) + R2/(1+(1j*2.*pi*freq_vec_1*tau2)**phi_2)\n",
    "gamma_exact_1 = (R1)/(2.*pi)*sin((1.-phi_1)*pi)/(np.cosh(phi_1*np.log(tau_vec/tau1))-cos((1.-phi_1)*pi))\n",
    "gamma_exact_2 = (R2)/(2.*pi)*sin((1.-phi_2)*pi)/(np.cosh(phi_2*np.log(tau_vec/tau2))-cos((1.-phi_2)*pi))\n",
    "gamma_ECM_1 = (gamma_exact_1 +gamma_exact_2).reshape(N_taus)"
   ]
  },
  {
   "cell_type": "markdown",
   "metadata": {},
   "source": [
    "## Comparison of the impedance from the fGP-DRT model and from the ECM\n",
    "\n",
    "### Fig 11(a) in fGP-DRT paper"
   ]
  },
  {
   "cell_type": "code",
   "execution_count": 22,
   "metadata": {},
   "outputs": [
    {
     "data": {
      "image/png": "[encoded data removed]",
      "text/plain": [
       "<Figure size 432x288 with 1 Axes>"
      ]
     },
     "metadata": {
      "needs_background": "light"
     },
     "output_type": "display_data"
    }
   ],
   "source": [
    "# plot of the impedance\n",
    "plt.plot(Z_exp_re, -Z_exp_im, \"o\", markersize=7, color=\"red\", label='exp')\n",
    "plt.plot(np.real(Z_exp_ECM_1), -np.imag(Z_exp_ECM_1),'--',  linewidth=2, color=\"blue\", label='ECM')\n",
    "plt.plot(Z_re_GP_1, -Z_im_GP_1, linewidth=2, color=\"black\", label='fGP-DRT')\n",
    "plt.plot(np.real(Z_exp_re[5:40:10]), -Z_exp_im[5:40:10], 's', markersize=7, color='black')\n",
    "##\n",
    "plt.rc('text', usetex=True)\n",
    "plt.rc('font', family='serif', size=15)\n",
    "plt.legend(frameon=False, fontsize = 15)\n",
    "plt.rc('xtick', labelsize=15)\n",
    "plt.rc('ytick', labelsize=15)\n",
    "# plt.axis([0,10.5,-0.5,3.5])\n",
    "plt.ylim(-0.7,2)\n",
    "plt.legend(frameon=False, fontsize = 15)\n",
    "plt.gca().set_aspect('equal', adjustable='box')\n",
    "plt.rcParams['text.latex.preamble'] = r'\\usepackage{amsmath}'\n",
    "plt.xlabel(r'$Z_{\\rm re}/\\Omega$', fontsize = 20)\n",
    "plt.ylabel(r'$-Z_{\\rm im}/\\Omega$', fontsize = 20)\n",
    "###\n",
    "df=pd.read_csv('./data_recovered/SCFN_500-AIR-3H2O_DATA_EIS.csv')\n",
    "freq_vec = df['freqs']\n",
    "##\n",
    "label_index = range(5,40,10)\n",
    "move = [[-1.1, -0.2], [-0.5, 0.3], [0.5, 0.06], [0.3, -0.2]]\n",
    "for k, ind in enumerate(label_index):\n",
    "    power = int(np.log10(freq_vec[ind]))\n",
    "    num = freq_vec[ind]/(10**(power))\n",
    "    plt.annotate(r'${0:.1f}\\times 10^{1}$'.format(num, power), xy=(Z_exp_re[ind],-Z_exp_im[ind]), \n",
    "                 xytext=(np.real(Z_exp_re[ind])+move[k][0], move[k][1]-Z_exp_im[ind]), \n",
    "                 arrowprops=dict(arrowstyle=\"-\", connectionstyle=\"arc\"))\n",
    "####\n",
    "\n",
    "plt.savefig('figs/fig_5/Fig_Nyquist_T_500-AIR-3H2O_DATA.svg', dpi=300, bbox_inches='tight')\n",
    "plt.savefig('figs/fig_5/Fig_Nyquist_T_500-AIR-3H2O_DATA.pdf', dpi=300, bbox_inches='tight')\n",
    "plt.savefig('figs/fig_5/Fig_Nyquist_T_500-AIR-3H2O_DATA.png', dpi=300, bbox_inches='tight')\n",
    "plt.savefig('figs/fig_5/Fig_Nyquist_T_500-AIR-3H2O_DATA.eps', dpi=300, bbox_inches='tight')\n",
    "plt.show()"
   ]
  },
  {
   "cell_type": "markdown",
   "metadata": {},
   "source": [
    "## Comparison of the DRT from the fGP-DRT model and from the ECM\n",
    "\n",
    "### Fig 11(c)"
   ]
  },
  {
   "cell_type": "code",
   "execution_count": 23,
   "metadata": {},
   "outputs": [
    {
     "name": "stderr",
     "output_type": "stream",
     "text": [
      "The PostScript backend does not support transparency; partially transparent artists will be rendered opaque.\n",
      "The PostScript backend does not support transparency; partially transparent artists will be rendered opaque.\n",
      "The PostScript backend does not support transparency; partially transparent artists will be rendered opaque.\n"
     ]
    },
    {
     "data": {
      "image/png": "[encoded data removed]",
      "text/plain": [
       "<Figure size 360x288 with 1 Axes>"
      ]
     },
     "metadata": {
      "needs_background": "light"
     },
     "output_type": "display_data"
    }
   ],
   "source": [
    "plt.semilogx(tau_vec.flatten(), gamma_ECM_1,'--', linewidth=2, color=\"blue\", label='ECM')\n",
    "plt.fill_between(tau_vec.flatten(),SCFN_AIR_3H2O_lower, SCFN_AIR_3H2O_upper, color='0.25', alpha=0.25)\n",
    "plt.semilogx(tau_vec, gamma_GP_con_1, linewidth=2, color=\"black\", label='fGP-DRT')\n",
    "      \n",
    "plt.rc('text', usetex=True)\n",
    "plt.rc('font', family='serif', size=15)\n",
    "plt.xlim(1E-6, 1E2)\n",
    "plt.ylim(0, 1.0)\n",
    "plt.rc('xtick', labelsize=15)\n",
    "plt.rc('ytick', labelsize=15)\n",
    "plt.legend(frameon=False, fontsize = 15, loc= 'upper right')\n",
    "plt.xlabel(r'$\\tau/\\rm s$', fontsize=20)\n",
    "plt.ylabel(r'$\\gamma/\\Omega$', fontsize=20)\n",
    "fig = plt.gcf()\n",
    "\n",
    "fig.set_size_inches(5, 4)\n",
    "plt.savefig('figs/fig_5/Fig_DRT_T_500-AIR-3H2O_DATA.svg', dpi=300, bbox_inches='tight') \n",
    "plt.savefig('figs/fig_5/Fig_DRT_T_500-AIR-3H2O_DATA.pdf', dpi=300, bbox_inches='tight')\n",
    "plt.savefig('figs/fig_5/Fig_DRT_T_500-AIR-3H2O_DATA.png', dpi=300, bbox_inches='tight')\n",
    "plt.savefig('figs/fig_5/Fig_DRT_T_500-AIR-3H2O_DATA.eps', dpi=300, bbox_inches='tight')\n",
    "plt.show()"
   ]
  },
  {
   "cell_type": "markdown",
   "metadata": {},
   "source": [
    "### Bode plots to compare the impedance from the fGP-DRT model and from the ECM"
   ]
  },
  {
   "cell_type": "code",
   "execution_count": null,
   "metadata": {},
   "outputs": [],
   "source": []
  },
  {
   "cell_type": "code",
   "execution_count": 24,
   "metadata": {
    "scrolled": true
   },
   "outputs": [],
   "source": [
    "DF500_3H2O =pd.read_csv('./data_recovered/500_3H2O_Gamma_60percent_500degree_D5_Ag.csv')\n",
    "DF1_500_3H2O = pd.read_csv('./data_recovered/500_3H2O_Z_60percent_500degree_D5_Ag.csv')"
   ]
  },
  {
   "cell_type": "code",
   "execution_count": 29,
   "metadata": {},
   "outputs": [],
   "source": [
    "Z_exp_real = DF1_500_3H2O['Z_exp_real']\n",
    "Z_exp_imag = DF1_500_3H2O['Z_exp_imag']\n",
    "Z_re_median = DF1_500_3H2O['Z_re_median']\n",
    "Z_im_median = DF1_500_3H2O['Z_im_median']\n",
    "Z_re_percentile_0dot1550 = DF1_500_3H2O['Z_re_percentile_0dot1']\n",
    "Z_re_percentile_0dot9550 = DF1_500_3H2O['Z_re_percentile_0dot9']\n",
    "Z_im_percentile_0dot1550 = DF1_500_3H2O['Z_im_percentile_0dot1']\n",
    "Z_im_percentile_0dot9550 = DF1_500_3H2O['Z_im_percentile_0dot1']\n",
    "freq_vecc = DF1_500_3H2O['freqs']\n",
    "#tau_vecc = DF500_3H2O['tau_vec']"
   ]
  },
  {
   "cell_type": "markdown",
   "metadata": {},
   "source": [
    "### Fig 11(e)"
   ]
  },
  {
   "cell_type": "code",
   "execution_count": 30,
   "metadata": {},
   "outputs": [
    {
     "data": {
      "image/png": "[encoded data removed]",
      "text/plain": [
       "<Figure size 360x288 with 2 Axes>"
      ]
     },
     "metadata": {
      "needs_background": "light"
     },
     "output_type": "display_data"
    }
   ],
   "source": [
    "fig, (ax1, ax2) = plt.subplots(2, sharex=True)\n",
    "ax1.semilogx(freq_vecc,Z_exp_real, 'o', markersize=7, color='red', label='exp')\n",
    "ax1.semilogx(freq_vecc, np.real(Z_exp_ECM_1),'--', linewidth=2, color='blue', label='ECM')\n",
    "ax1.semilogx(freq_vecc,Z_re_median, linewidth=2, color='black', label='fGP-DRT')\n",
    "ax1.set_ylabel(r'$Z_{\\rm re}/\\Omega$', fontsize = 20)\n",
    "#ax1.xlim()\n",
    "#ax1.axis([1E-4, 1E4, 0, 65])\n",
    "ax1.legend(frameon=False, fontsize = 15)\n",
    "#ax1.set_yticks(np.arange(0, 70, step=20)) \n",
    "# Z_exp_imag\n",
    "ax2.semilogx(freq_vecc, -Z_exp_imag, 'o', markersize=7, color='red', label='exp')\n",
    "ax2.semilogx(freq_vecc,-np.imag(Z_exp_ECM_1),'--', linewidth=2, color='blue', label='ECM')\n",
    "ax2.semilogx(freq_vecc, -Z_im_median, linewidth=2, color='black', label='fGP-DRT')\n",
    "ax2.set_ylabel(r'$-Z_{\\rm im}/\\Omega$', fontsize = 20)\n",
    "#ax2.axis([1E-4, 1E4, -40, 20])\n",
    "\n",
    "plt.rc('text', usetex=True)\n",
    "plt.rc('font', family='serif', size=15)\n",
    "plt.rc('xtick', labelsize=15)\n",
    "plt.rc('ytick', labelsize=15)\n",
    "plt.xlabel(r'$f/{\\rm Hz}$', fontsize = 20)\n",
    "fig.set_size_inches(6.472, 4)\n",
    "##############\n",
    "\n",
    "###########\n",
    "fig.align_ylabels()\n",
    "fig.set_size_inches(5, 4)\n",
    "plt.savefig('figs/fig_5/Fig_DRT_TRe_Im_550_pO2_60%500_3H2O.svg', dpi=300, bbox_inches='tight') \n",
    "plt.savefig('figs/fig_5/Fig_DRT_TRe_Im_550_pO2_60%500_3H2O.pdf', dpi=300, bbox_inches='tight')\n",
    "plt.savefig('figs/fig_5/Fig_DRT_TRe_Im_550_pO2_60%500_3H2O.eps', dpi=300, bbox_inches='tight')\n",
    "plt.savefig('figs/fig_5/Fig_DRT_TRe_Im_550_pO2_60%500_3H2O.png', dpi=300, bbox_inches='tight')\n",
    "plt.show()"
   ]
  },
  {
   "cell_type": "code",
   "execution_count": null,
   "metadata": {},
   "outputs": [],
   "source": []
  }
 ],
 "metadata": {
  "kernelspec": {
   "display_name": "Python 3",
   "language": "python",
   "name": "python3"
  },
  "language_info": {
   "codemirror_mode": {
    "name": "ipython",
    "version": 3
   },
   "file_extension": ".py",
   "mimetype": "text/x-python",
   "name": "python",
   "nbconvert_exporter": "python",
   "pygments_lexer": "ipython3",
   "version": "3.8.8"
  }
 },
 "nbformat": 4,
 "nbformat_minor": 4
}
